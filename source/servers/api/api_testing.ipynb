{
 "cells": [
  {
   "cell_type": "markdown",
   "metadata": {},
   "source": [
    "# Yaarl API Test Suite"
   ]
  },
  {
   "cell_type": "code",
   "execution_count": 1,
   "metadata": {},
   "outputs": [
    {
     "name": "stdout",
     "output_type": "stream",
     "text": [
      "Requirement already satisfied: flask in /Users/tom/Documents/yaarl/.venv/lib/python3.12/site-packages (from -r requirements.txt (line 1)) (3.0.3)\n",
      "Requirement already satisfied: pandas in /Users/tom/Documents/yaarl/.venv/lib/python3.12/site-packages (from -r requirements.txt (line 2)) (2.2.2)\n",
      "Requirement already satisfied: Werkzeug>=3.0.0 in /Users/tom/Documents/yaarl/.venv/lib/python3.12/site-packages (from flask->-r requirements.txt (line 1)) (3.0.3)\n",
      "Requirement already satisfied: Jinja2>=3.1.2 in /Users/tom/Documents/yaarl/.venv/lib/python3.12/site-packages (from flask->-r requirements.txt (line 1)) (3.1.4)\n",
      "Requirement already satisfied: itsdangerous>=2.1.2 in /Users/tom/Documents/yaarl/.venv/lib/python3.12/site-packages (from flask->-r requirements.txt (line 1)) (2.2.0)\n",
      "Requirement already satisfied: click>=8.1.3 in /Users/tom/Documents/yaarl/.venv/lib/python3.12/site-packages (from flask->-r requirements.txt (line 1)) (8.1.7)\n",
      "Requirement already satisfied: blinker>=1.6.2 in /Users/tom/Documents/yaarl/.venv/lib/python3.12/site-packages (from flask->-r requirements.txt (line 1)) (1.8.2)\n",
      "Requirement already satisfied: numpy>=1.26.0 in /Users/tom/Documents/yaarl/.venv/lib/python3.12/site-packages (from pandas->-r requirements.txt (line 2)) (1.26.4)\n",
      "Requirement already satisfied: python-dateutil>=2.8.2 in /Users/tom/Documents/yaarl/.venv/lib/python3.12/site-packages (from pandas->-r requirements.txt (line 2)) (2.9.0.post0)\n",
      "Requirement already satisfied: pytz>=2020.1 in /Users/tom/Documents/yaarl/.venv/lib/python3.12/site-packages (from pandas->-r requirements.txt (line 2)) (2024.1)\n",
      "Requirement already satisfied: tzdata>=2022.7 in /Users/tom/Documents/yaarl/.venv/lib/python3.12/site-packages (from pandas->-r requirements.txt (line 2)) (2024.1)\n",
      "Requirement already satisfied: MarkupSafe>=2.0 in /Users/tom/Documents/yaarl/.venv/lib/python3.12/site-packages (from Jinja2>=3.1.2->flask->-r requirements.txt (line 1)) (2.1.5)\n",
      "Requirement already satisfied: six>=1.5 in /Users/tom/Documents/yaarl/.venv/lib/python3.12/site-packages (from python-dateutil>=2.8.2->pandas->-r requirements.txt (line 2)) (1.16.0)\n",
      "Note: you may need to restart the kernel to use updated packages.\n"
     ]
    }
   ],
   "source": [
    "%pip install -r requirements.txt"
   ]
  },
  {
   "cell_type": "code",
   "execution_count": null,
   "metadata": {},
   "outputs": [],
   "source": []
  }
 ],
 "metadata": {
  "kernelspec": {
   "display_name": ".venv",
   "language": "python",
   "name": "python3"
  },
  "language_info": {
   "codemirror_mode": {
    "name": "ipython",
    "version": 3
   },
   "file_extension": ".py",
   "mimetype": "text/x-python",
   "name": "python",
   "nbconvert_exporter": "python",
   "pygments_lexer": "ipython3",
   "version": "3.12.3"
  }
 },
 "nbformat": 4,
 "nbformat_minor": 2
}
